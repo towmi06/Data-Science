{
 "cells": [
  {
   "cell_type": "markdown",
   "id": "d688e928-ca8e-4636-9a3a-1996b45aabf6",
   "metadata": {},
   "source": [
    "Data Science Tools and Ecosystem"
   ]
  },
  {
   "cell_type": "markdown",
   "id": "26e88dbe-7b61-4d26-9500-29683b8af4f7",
   "metadata": {},
   "source": [
    "In this notebook, Data Science Tools and Ecosystem are summarized."
   ]
  },
  {
   "cell_type": "markdown",
   "id": "3252346c-db8b-49ee-b5e8-335755376749",
   "metadata": {},
   "source": [
    "Some of the popular languages that Data Scientists use are:\n",
    "\n",
    "    1. Python \n",
    "    2. R\n",
    "    3. SQL"
   ]
  },
  {
   "cell_type": "markdown",
   "id": "01799f00-ecd4-4f6e-93d0-b55a7c6b200a",
   "metadata": {},
   "source": [
    "Some of the commonly used libraries used by Data Scientists include:\n",
    "\n",
    "    1. Scikit-Learn: \n",
    "    2. pandas\n",
    "    3. numpy"
   ]
  },
  {
   "cell_type": "markdown",
   "id": "e561d9b7-2168-44d4-bcf2-01f0dc4c3c94",
   "metadata": {},
   "source": [
    "| Data Science Tools |\n",
    "|:------------------:|\n",
    "| Jupyter Notebook   |\n",
    "| RStudio            |\n",
    "| Apache Zeppelin    |\n"
   ]
  },
  {
   "cell_type": "markdown",
   "id": "896756a7-c6ef-4401-afef-af7ec46297a5",
   "metadata": {},
   "source": [
    "### Below are a few examples of evaluating arithmetic expressions in Python.\n",
    "\n",
    "1. **Addition**: `3 + 2` results in `5`\n",
    "2. **Subtraction**: `5 - 2` results in `3`\n",
    "3. **Multiplication**: `4 * 2` results in `8`\n",
    "4. **Division**: `8 / 2` results in `4.0`\n",
    "5. **Exponentiation**: `2 ** 3` results in `8`\n",
    "6. **Modulus**: `10 % 3` results in `1`\n"
   ]
  },
  {
   "cell_type": "code",
   "execution_count": 29,
   "id": "217883dc-be42-412e-a523-2c8b74e561f5",
   "metadata": {},
   "outputs": [
    {
     "data": {
      "text/plain": [
       "17"
      ]
     },
     "execution_count": 29,
     "metadata": {},
     "output_type": "execute_result"
    }
   ],
   "source": [
    "(3*4)+5\n",
    "# This a simple arithmetic expression to multiply then add integer\n"
   ]
  },
  {
   "cell_type": "code",
   "execution_count": 38,
   "id": "4ac8c345-f06c-4cdb-a5c6-1f509d84392c",
   "metadata": {},
   "outputs": [],
   "source": [
    "minutes = 200\n",
    "hours = minutes / 60\n",
    "# This will convert 200 minutes to hours by diving by 60 "
   ]
  },
  {
   "cell_type": "markdown",
   "id": "a32a52a3-77c1-4fb7-a996-6cbe7abad530",
   "metadata": {},
   "source": [
    "Objectives:\n",
    "\n",
    "    * Python \n",
    "    * R\n",
    "    * SQL"
   ]
  },
  {
   "cell_type": "markdown",
   "id": "4a0d074d-d603-4684-b4e2-5db7f68062ae",
   "metadata": {},
   "source": [
    "## Author:\n",
    "Thom\n"
   ]
  }
 ],
 "metadata": {
  "kernelspec": {
   "display_name": "Python 3 (ipykernel)",
   "language": "python",
   "name": "python3"
  },
  "language_info": {
   "codemirror_mode": {
    "name": "ipython",
    "version": 3
   },
   "file_extension": ".py",
   "mimetype": "text/x-python",
   "name": "python",
   "nbconvert_exporter": "python",
   "pygments_lexer": "ipython3",
   "version": "3.12.4"
  }
 },
 "nbformat": 4,
 "nbformat_minor": 5
}
